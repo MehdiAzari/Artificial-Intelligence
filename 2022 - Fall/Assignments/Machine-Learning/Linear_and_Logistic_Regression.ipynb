{
 "cells": [
  {
   "cell_type": "markdown",
   "id": "italian-substitute",
   "metadata": {},
   "source": [
    "# Machine Learning's \"Hello World\"!\n",
    "\n",
    "This is the computer assignment **#3** of the **Artificial Intelligence** undergraduate course at **Shahid Beheshti University**.\n",
    "\n",
    "In this notebook, we explore the basic and traditional machine learning algorithms and see how to implement predicative models powered by [Sickit-Learn](https://scikit-learn.org/stable/) library.\n",
    "\n",
    " \n",
    " **Before you start:** Please read the ***Submission*** section at the bottom of the notebook carefully."
   ]
  },
  {
   "cell_type": "code",
   "execution_count": 1,
   "id": "subject-vector",
   "metadata": {},
   "outputs": [],
   "source": [
    "# lets import the essential packages we need\n",
    "import pandas as pd\n",
    "import numpy as np\n",
    "import matplotlib.pyplot as plt"
   ]
  },
  {
   "cell_type": "markdown",
   "id": "musical-operation",
   "metadata": {},
   "source": [
    "# 1. Medical Insurance Cost Prediction\n",
    "\n",
    "Many factors that affect how much you pay for health insurance are not within your control. Nonetheless, it's good to have an understanding of what they are. Here are some factors that affect how much health insurance premiums cost:\n",
    "\n",
    "- **age**: age of primary beneficiary\n",
    "- **sex**: insurance contractor gender, female, male\n",
    "- **bmi**: Body mass index, providing an understanding of body, weights that are relatively high or low relative to height, objective index of body weight using the ratio of height to weight, ideally 18.5 to 24.9\n",
    "- **smoker**: Smoking\n",
    "- **children**: Number of children covered by health insurance / Number of dependents"
   ]
  },
  {
   "cell_type": "code",
   "execution_count": 2,
   "id": "stuck-barrier",
   "metadata": {},
   "outputs": [
    {
     "name": "stdout",
     "output_type": "stream",
     "text": [
      "Shape of the dataset: (1338, 6)\n"
     ]
    },
    {
     "data": {
      "text/html": [
       "<div>\n",
       "<style scoped>\n",
       "    .dataframe tbody tr th:only-of-type {\n",
       "        vertical-align: middle;\n",
       "    }\n",
       "\n",
       "    .dataframe tbody tr th {\n",
       "        vertical-align: top;\n",
       "    }\n",
       "\n",
       "    .dataframe thead th {\n",
       "        text-align: right;\n",
       "    }\n",
       "</style>\n",
       "<table border=\"1\" class=\"dataframe\">\n",
       "  <thead>\n",
       "    <tr style=\"text-align: right;\">\n",
       "      <th></th>\n",
       "      <th>age</th>\n",
       "      <th>sex</th>\n",
       "      <th>bmi</th>\n",
       "      <th>children</th>\n",
       "      <th>smoker</th>\n",
       "      <th>charges</th>\n",
       "    </tr>\n",
       "  </thead>\n",
       "  <tbody>\n",
       "    <tr>\n",
       "      <th>0</th>\n",
       "      <td>45</td>\n",
       "      <td>female</td>\n",
       "      <td>27.83</td>\n",
       "      <td>2</td>\n",
       "      <td>no</td>\n",
       "      <td>8515.7587</td>\n",
       "    </tr>\n",
       "    <tr>\n",
       "      <th>1</th>\n",
       "      <td>24</td>\n",
       "      <td>male</td>\n",
       "      <td>32.70</td>\n",
       "      <td>0</td>\n",
       "      <td>yes</td>\n",
       "      <td>34472.8410</td>\n",
       "    </tr>\n",
       "    <tr>\n",
       "      <th>2</th>\n",
       "      <td>34</td>\n",
       "      <td>female</td>\n",
       "      <td>29.26</td>\n",
       "      <td>3</td>\n",
       "      <td>no</td>\n",
       "      <td>6184.2994</td>\n",
       "    </tr>\n",
       "    <tr>\n",
       "      <th>3</th>\n",
       "      <td>64</td>\n",
       "      <td>male</td>\n",
       "      <td>34.50</td>\n",
       "      <td>0</td>\n",
       "      <td>no</td>\n",
       "      <td>13822.8030</td>\n",
       "    </tr>\n",
       "    <tr>\n",
       "      <th>4</th>\n",
       "      <td>27</td>\n",
       "      <td>female</td>\n",
       "      <td>24.10</td>\n",
       "      <td>0</td>\n",
       "      <td>no</td>\n",
       "      <td>2974.1260</td>\n",
       "    </tr>\n",
       "  </tbody>\n",
       "</table>\n",
       "</div>"
      ],
      "text/plain": [
       "   age     sex    bmi  children smoker     charges\n",
       "0   45  female  27.83         2     no   8515.7587\n",
       "1   24    male  32.70         0    yes  34472.8410\n",
       "2   34  female  29.26         3     no   6184.2994\n",
       "3   64    male  34.50         0     no  13822.8030\n",
       "4   27  female  24.10         0     no   2974.1260"
      ]
     },
     "execution_count": 2,
     "metadata": {},
     "output_type": "execute_result"
    }
   ],
   "source": [
    "df = pd.read_csv('datasets/insurance.csv')\n",
    "print(\"Shape of the dataset: {}\".format(df.shape))\n",
    "df.head(5)"
   ]
  },
  {
   "cell_type": "markdown",
   "id": "intermediate-wednesday",
   "metadata": {},
   "source": [
    "There is a library named `pandas_profiling` in Python include a method named as `ProfileReport()` which generate a basic report on the input DataFrame. The report consist of the following:\n",
    "\n",
    "- DataFrame overview,\n",
    "- Each attribute on which DataFrame is defined,\n",
    "- Correlations between attributes (Pearson Correlation and Spearman Correlation), and\n",
    "- A sample of DataFrame.\n",
    "\n",
    "By running the cell below, a HTML file will be created next to the notebook in the project directory."
   ]
  },
  {
   "cell_type": "code",
   "execution_count": 3,
   "id": "broadband-reply",
   "metadata": {},
   "outputs": [
    {
     "data": {
      "application/vnd.jupyter.widget-view+json": {
       "model_id": "4325aedbfb17441bb1ee18747272ba66",
       "version_major": 2,
       "version_minor": 0
      },
      "text/plain": [
       "Summarize dataset:   0%|          | 0/19 [00:00<?, ?it/s]"
      ]
     },
     "metadata": {},
     "output_type": "display_data"
    },
    {
     "data": {
      "application/vnd.jupyter.widget-view+json": {
       "model_id": "6adf9e96bbe54a7cb0cd01f046d9d879",
       "version_major": 2,
       "version_minor": 0
      },
      "text/plain": [
       "Generate report structure:   0%|          | 0/1 [00:00<?, ?it/s]"
      ]
     },
     "metadata": {},
     "output_type": "display_data"
    },
    {
     "data": {
      "application/vnd.jupyter.widget-view+json": {
       "model_id": "e977c1f39f714dae85bf0fbc738275b9",
       "version_major": 2,
       "version_minor": 0
      },
      "text/plain": [
       "Render HTML:   0%|          | 0/1 [00:00<?, ?it/s]"
      ]
     },
     "metadata": {},
     "output_type": "display_data"
    },
    {
     "data": {
      "application/vnd.jupyter.widget-view+json": {
       "model_id": "122ae36ccd7e4823884f89967fb37118",
       "version_major": 2,
       "version_minor": 0
      },
      "text/plain": [
       "Export report to file:   0%|          | 0/1 [00:00<?, ?it/s]"
      ]
     },
     "metadata": {},
     "output_type": "display_data"
    }
   ],
   "source": [
    "# import pandas_profiling library\n",
    "import pandas_profiling as pp\n",
    "\n",
    "# forming ProfileReport and save\n",
    "# as a HTML file\n",
    "profile = pp.ProfileReport(df)\n",
    "profile.to_file(\"insurance_dataset_report.html\")"
   ]
  },
  {
   "cell_type": "markdown",
   "id": "quantitative-taste",
   "metadata": {},
   "source": [
    "## 1.1 Linear Regression\n",
    "\n",
    "**Linear Regression** is a machine learning algorithm based on **supervised learning**. It performs a regression task. Regression models a target prediction value based on independent variables. It is mostly used for finding out the relationship between variables and forecasting.\n",
    "<img src=\"images/linear-regression.png\" width=400 height=400 />"
   ]
  },
  {
   "cell_type": "markdown",
   "id": "pharmaceutical-thanksgiving",
   "metadata": {},
   "source": [
    "In this problem, we want to create a linear regression model for the existing dataest. For simplicity, we only consider one of the features of the data `bmi` and the target `charges`. Also we are just interested in the people who smokes. So:"
   ]
  },
  {
   "cell_type": "code",
   "execution_count": 4,
   "id": "damaged-drinking",
   "metadata": {},
   "outputs": [
    {
     "data": {
      "text/plain": [
       "Text(0, 0.5, 'charges')"
      ]
     },
     "execution_count": 4,
     "metadata": {},
     "output_type": "execute_result"
    },
    {
     "data": {
      "image/png": "[encoded data removed]",
      "text/plain": [
       "<Figure size 720x432 with 1 Axes>"
      ]
     },
     "metadata": {
      "needs_background": "light"
     },
     "output_type": "display_data"
    }
   ],
   "source": [
    "X = df[df['smoker'] =='yes']['bmi'].values  # X now is a numpy array\n",
    "target = df[df['smoker'] =='yes']['charges'].values  # also target is a numpy array\n",
    "\n",
    "# plot the points\n",
    "fig, ax = plt.subplots(figsize=(10, 6))\n",
    "ax.scatter(x = X, y = target)\n",
    "plt.xlabel(\"bmi\")\n",
    "plt.ylabel(\"charges\")"
   ]
  },
  {
   "cell_type": "markdown",
   "id": "floral-witch",
   "metadata": {},
   "source": [
    "## Q1. Implement `SimpleLinearRegression` class. (20 points)\n",
    "\n",
    "Fill the blank lines with the least possible codes. Note that redundant codes may lead to reduce your score.\n",
    "\n",
    "**Note**: Do not add any other functions to the class defined below."
   ]
  },
  {
   "cell_type": "code",
   "execution_count": 25,
   "id": "changing-latino",
   "metadata": {},
   "outputs": [],
   "source": [
    "from sklearn.model_selection import train_test_split\n",
    "from sklearn.linear_model import LinearRegression\n",
    "from sklearn import metrics\n",
    "\n",
    "\n",
    "class SimpleLinearRegression():\n",
    "    def __init__(self):\n",
    "        self.intercept = 0.0\n",
    "        self.coeff = 0.0\n",
    "    \n",
    "    def train(self, X_train, y_train):\n",
    "        # TODO: Thin function takes X_train: numpy.ndarray and y : numpy.ndarray\n",
    "        # and fit a linear line to the points with the least loss\n",
    "        # Use sklearn.linear_model.LinearRegression for this purpose\n",
    "        # At last this function must set the intercept and coefficient of the predicted line\n",
    "        \n",
    "        intercept = 0.0\n",
    "        coeff = 0.0\n",
    "        ############# Your code here ############\n",
    "            \n",
    "        #########################################\n",
    "        \n",
    "        self.intercept = intercept\n",
    "        self.coeff = coeff\n",
    "        \n",
    "        return coeff, intercept\n",
    "    \n",
    "    def compute_loss(self, y_pred, y_true, loss_fn = 'MSE'):\n",
    "        # TODO: Implement this function that takes y_pred and y_true\n",
    "        # as a 1-dimensional numpy array (n_samples,) and returns\n",
    "        # the loss using sklearn.metrics functions\n",
    "         \n",
    "        possible_loss_functions = ['MSE', 'MAE', 'R2_Score']\n",
    "        \n",
    "        loss = None\n",
    "        if loss_fn == 'MSE':\n",
    "            ############# Your code here ############\n",
    "            loss = 0.0\n",
    "            #########################################\n",
    "        elif loss_fn == 'MAE':\n",
    "            ############# Your code here ############\n",
    "            loss = 0.0\n",
    "            #########################################\n",
    "        elif loss_fn == 'R2_Score':\n",
    "            ############# Your code here ############\n",
    "            loss = 0.0\n",
    "            #########################################\n",
    "        else:\n",
    "            error_str = 'Loss function is either unknown or not implemented.'\n",
    "            raise NotImplementedError(error_str)\n",
    "        \n",
    "        return loss\n",
    "        \n",
    "    def normalize(self, X, normalization='Standardization'):\n",
    "        # TODO: Implement this function that takes X : numpy.ndarray\n",
    "        # as the input feature array and normalize it\n",
    "        # You can use sklearn.preprocessing normalizations functions too.\n",
    "        # NOTE: For test set, you must use the mean and std of train set (standardization)\n",
    "        # of the train set. (since test set has not seen so far)\n",
    "        possible_normalization = ['Standardization', 'MinMaxScaling']\n",
    "        \n",
    "        nomalaized_feat = None\n",
    "        if normalization == 'Standardization':\n",
    "            ############# Your code here ############\n",
    "            nomalaized_feat = None\n",
    "            #########################################\n",
    "        elif normalization == 'MinMaxScaling':\n",
    "            ############# Your code here ############\n",
    "            nomalaized_feat = None\n",
    "            #########################################\n",
    "        else:\n",
    "            error_str = 'Normalization type is either unknown or not implemented.'\n",
    "            raise NotImplementedError(error_str)\n",
    "        \n",
    "        return nomalaized_feat\n",
    "    \n",
    "    def prepare_dataset(self, X, y, test_size=0.2, random_state=42):   \n",
    "        # TODO: Implement this function that takes X : numpy.ndarray and y : numpy.ndarray\n",
    "        # and use sklearn.model_selection.train_test_split to split your data into test and train sets\n",
    "        X_train, y_train, X_test, y_test = None, None, None, None\n",
    "        ############# Your code here ############\n",
    "    \n",
    "        #########################################\n",
    "        \n",
    "        return X_train, y_train, X_test, y_test"
   ]
  },
  {
   "cell_type": "markdown",
   "id": "substantial-bunch",
   "metadata": {},
   "source": [
    "## Q2. What are the coefficient and intercept of the trained linear model? (5 points)\n",
    "\n",
    "After completing the functions above, use them to report the final coefficient and intercept of the predicted model.\n",
    "\n",
    "**Note**: When implementing the `SimpleLinearRegression` class, notice that before training your model, normalize your input features for better convergence by completeing `normalize()` function. If you forget it, it may hurts your model consequently!"
   ]
  },
  {
   "cell_type": "code",
   "execution_count": 23,
   "id": "drawn-seller",
   "metadata": {},
   "outputs": [],
   "source": [
    "slr = SimpleLinearRegression()\n",
    "############# Your code here ############\n",
    "            \n",
    "#########################################"
   ]
  },
  {
   "cell_type": "markdown",
   "id": "acknowledged-chrome",
   "metadata": {},
   "source": [
    "## Q3. Plot the prediceted line and the data points. (5 points)\n",
    "\n",
    "- Use `plt.scatter` to indicate the data points (Blue points for Train set and Red points for Test set).\n",
    "- Plot the predicted line using the coefficient and intercept calculated in the previous question. (`plt.plot`)"
   ]
  },
  {
   "cell_type": "code",
   "execution_count": 20,
   "id": "ambient-correlation",
   "metadata": {},
   "outputs": [],
   "source": [
    "############# Your code here ############\n",
    "            \n",
    "#########################################"
   ]
  },
  {
   "cell_type": "markdown",
   "id": "dominant-seattle",
   "metadata": {},
   "source": [
    "## Q4. Compute loss. (5 points)\n",
    "\n",
    "First you must search about the following loss functions and compare them. (By showing their benefits to each other).\n",
    "\n",
    "- **MSE**: Mean Squared Error\n",
    "- **MAE**: Mean Absolute Error\n",
    "- **R2-score**\n",
    "\n",
    "Then create a DataFrame similar to the table shown below:\n",
    "\n",
    "| loss_function | train_set | test_set | \n",
    "| --- | --- | --- |\n",
    "| MSE | ... | ... |\n",
    "| MAE | ... | ... |\n",
    "| R2-score | ... | ... |"
   ]
  },
  {
   "cell_type": "code",
   "execution_count": null,
   "id": "steady-payday",
   "metadata": {},
   "outputs": [],
   "source": [
    "############# Your code here ############\n",
    "            \n",
    "#########################################"
   ]
  },
  {
   "cell_type": "markdown",
   "id": "complex-basics",
   "metadata": {},
   "source": [
    "## 1.2 Underfitting & Overfitting Issues\n",
    "\n",
    "A model is said to be a good machine learning model if it generalizes any new input data from the problem domain in a proper way. This helps us to make predictions in the future data, that the data model has never seen. Now, suppose we want to check how well our machine learning model learns and generalizes to the new data (Test set). For that, we have overfitting and underfitting, which are majorly responsible for the poor performances of the machine learning algorithms.\n",
    "\n",
    "- **Underfitting:** A statistical model or a machine learning algorithm is said to have underfitting when it cannot capture the underlying trend of the data. (It’s just like trying to fit undersized pants!) Underfitting destroys the accuracy of our machine learning model. Its occurrence simply means that our model or the algorithm **does not fit the data well enough**. It usually happens when we have fewer data to build an accurate model and also when we try to build a linear model with fewer non-linear data. In such cases, the rules of the machine learning model are too easy and flexible to be applied on such minimal data and therefore the model will probably make a lot of wrong predictions. Underfitting can be avoided by using more data and also reducing the features by feature selection. \n",
    "\n",
    "    Techniques to reduce underfitting: \n",
    "\n",
    "    1. Increase model complexity\n",
    "    2. Increase the number of features, performing feature engineering\n",
    "    3. Remove noise from the data.\n",
    "    4. Increase the number of epochs or increase the duration of training to get better results.\n",
    "    \n",
    "    \n",
    "- **Overfitting:** A statistical model is said to be overfitted when we train it with a lot of data (just like fitting ourselves in oversized pants!). When a model gets trained with so much data, it starts learning from the noise and inaccurate data entries in our data set. Then the model does not categorize the data correctly, because of too many details and noise. The causes of overfitting are the non-parametric and non-linear methods because these types of machine learning algorithms have more freedom in building the model based on the dataset and therefore they can really build unrealistic models. \n",
    "\n",
    "    Techniques to reduce overfitting: \n",
    "\n",
    "    1. Increase training data.\n",
    "    2. Reduce model complexity.\n",
    "    3. Early stopping during the training phase (have an eye over the loss over the training period as soon as loss begins to increase stop training).\n",
    "    4. Ridge Regularization and Lasso Regularization\n",
    "    \n",
    "    In the image below you can see linear regression and polynomial regression models. In the linear model, the model has underfitted and thus it cannot be generalized on all the data point properly (Underfitting). So we can add polynomial features as well to increase the complexity of the model. Therefore, in the middle figure you can see better fittnes of the model on the data points by adding $\\{x^2, x^3, x^4\\}$ to our hypothesis space.\n",
    "Although in the right side figure you see less loss than others, but the model is overfitted. It cannot be generalized on the test set (unseen data). \n",
    "    \n",
    "<img src=\"images/underfitting_overfitting.png\" width=700 height=700 />\n",
    "\n",
    "\n",
    "**Note:** The image above is not related to the given `insurance.csv` dataset."
   ]
  },
  {
   "cell_type": "markdown",
   "id": "ignored-smith",
   "metadata": {},
   "source": [
    "## Q5. Implement `PolynomialRegression` class. (15 points)\n",
    "\n",
    "Fill the blank lines with using the least possible codes. Note that redundant codes may lead to reduce your score.\n",
    "\n",
    "**Note**: Do not add any other functions to the class defined below."
   ]
  },
  {
   "cell_type": "code",
   "execution_count": 26,
   "id": "everyday-newcastle",
   "metadata": {},
   "outputs": [],
   "source": [
    "from sklearn.model_selection import train_test_split\n",
    "from sklearn.linear_model import LinearRegression\n",
    "from sklearn.preprocessing import PolynomialFeatures\n",
    "from sklearn import metrics\n",
    "\n",
    "\n",
    "class PolynomialRegression():\n",
    "    def __init__(self, degree=3):\n",
    "        self.degree = degree\n",
    "    \n",
    "    def train(self, X_train, y_train):\n",
    "        # TODO: Thin function takes X_train: numpy.ndarray and y : numpy.ndarray\n",
    "        # and fit a linear line to the points with the least loss\n",
    "        # Use sklearn.linear_model.LinearRegression for this purpose\n",
    "        # At last this function must set the intercept and coefficient of the predicted line\n",
    "        \n",
    "        intercept = None\n",
    "        coeff = None\n",
    "        ############# Your code here ############\n",
    "            \n",
    "        #########################################\n",
    "        \n",
    "        return coeff, intercept\n",
    "    \n",
    "    def compute_loss(self, y_pred, y_true, loss_fn = 'MSE'):\n",
    "        # TODO: Implement this function that takes y_pred and y_true\n",
    "        # as a 1-dimensional numpy array (n_samples,) and returns\n",
    "        # the loss using sklearn.metrics functions\n",
    "         \n",
    "        possible_loss_functions = ['MSE', 'MAE', 'R2_Score']\n",
    "        \n",
    "        loss = None\n",
    "        if loss_fn == 'MSE':\n",
    "            ############# Your code here ############\n",
    "            loss = 0.0\n",
    "            #########################################\n",
    "        elif loss_fn == 'MAE':\n",
    "            ############# Your code here ############\n",
    "            loss = 0.0\n",
    "            #########################################\n",
    "        elif loss_fn == 'R2_Score':\n",
    "            ############# Your code here ############\n",
    "            loss = 0.0\n",
    "            #########################################\n",
    "        else:\n",
    "            error_str = 'Loss function is either unknown or not implemented.'\n",
    "            raise NotImplementedError(error_str)\n",
    "        \n",
    "        return loss\n",
    "        \n",
    "    def normalize(self, X, normalization='Standardization'):\n",
    "        # TODO: Implement this function that takes X : numpy.ndarray\n",
    "        # as the input feature array and normalize it\n",
    "        # You can use sklearn.preprocessing normalizations functions too.\n",
    "        # NOTE: For test set, you must use the mean and std of train set (standardization)\n",
    "        # of the train set. (since test set has not seen so far)\n",
    "        possible_normalization = ['Standardization', 'MinMaxScaling']\n",
    "        \n",
    "        nomalaized_feat = None\n",
    "        if normalization == 'Standardization':\n",
    "            ############# Your code here ############\n",
    "            nomalaized_feat = None\n",
    "            #########################################\n",
    "        elif normalization == 'MinMaxScaling':\n",
    "            ############# Your code here ############\n",
    "            nomalaized_feat = None\n",
    "            #########################################\n",
    "        else:\n",
    "            error_str = 'Normalization type is either unknown or not implemented.'\n",
    "            raise NotImplementedError(error_str)\n",
    "        \n",
    "        return nomalaized_feat\n",
    "    \n",
    "    def generate_polynomial_features(self, X, degree):\n",
    "        # TODO: Implement this function that takes degree: int and X: numpy.ndarray\n",
    "        # to return polnomial features of those input features.\n",
    "        # Use sklearn.preprocessing.PolynomialFeatures. Read its documentation for more info.\n",
    "        X_pol = None\n",
    "        ############# Your code here ############\n",
    "    \n",
    "        #########################################\n",
    "        \n",
    "        return X_pol\n",
    "        \n",
    "\n",
    "    def prepare_dataset(self, X, y, test_size=0.2, random_state=42):   \n",
    "        # TODO: Implement this function that takes X : numpy.ndarray and y : numpy.ndarray\n",
    "        # and use sklearn.model_selection.train_test_split to split your data into test and train sets\n",
    "        X_train, y_train, X_test, y_test = None, None, None, None\n",
    "        ############# Your code here ############\n",
    "    \n",
    "        #########################################\n",
    "        \n",
    "        return X_train, y_train, X_test, y_test"
   ]
  },
  {
   "cell_type": "markdown",
   "id": "exterior-living",
   "metadata": {},
   "source": [
    "## Q6. Find the best polynomial degree. (10 points)\n",
    "\n",
    "The best polynomial degree is the one with the least loss for test set data points. So use the implemented `PolynomialRegression`above multiple times to find the best one. "
   ]
  },
  {
   "cell_type": "code",
   "execution_count": 27,
   "id": "isolated-integral",
   "metadata": {},
   "outputs": [],
   "source": [
    "for degree in range(20):\n",
    "    best_degree = 1\n",
    "    least_loss = 0.0\n",
    "    pr = PolynomialRegression(degree=degree)\n",
    "    ############# Your code here ############\n",
    "    \n",
    "    #########################################"
   ]
  },
  {
   "cell_type": "markdown",
   "id": "naked-personal",
   "metadata": {},
   "source": [
    "## Q7. Plot some experimental results (5 points)\n",
    "\n",
    "Use `plt.subplot` to plot the predicted polynomial model **for degrees, 1, 4 and 20**.\n",
    "\n",
    "So note that you must present 1 figure with 3 plots.\n",
    "\n",
    "Also consider these:\n",
    "- Set the title of each plot to ***Polynomial Fit degree i***\n",
    "- Print loss of each model on both train and test set."
   ]
  },
  {
   "cell_type": "code",
   "execution_count": null,
   "id": "pressing-diving",
   "metadata": {},
   "outputs": [],
   "source": [
    "############# Your code here ############\n",
    "    \n",
    "#########################################"
   ]
  },
  {
   "cell_type": "markdown",
   "id": "rational-guidance",
   "metadata": {},
   "source": [
    "# 2. Sign Language Classification\n",
    "\n",
    "The American Sign Language MNIST Dataset we are going to use is obtained from [Kaggle](https://www.kaggle.com/datamunge/sign-language-mnist). This dataset is much like the original MNIST dataset. Each training and test case consists of a numerical label (0–25) with a one-to-one correspondence to the English alphabet (0 corresponds to A) and a grayscale 28x28 pixel image with values ranging from 0–255. However, there is no label correspondence to the letter J (9) and Z (25) due to the motion required to symbolize those letters. The number of testing and training cases in this dataset are much lower compared to the orginal MNIST dataset since there are only 27,455 training cases and 7,172 tests cases in this dataset.\n",
    "\n",
    "<img src=\"images/sign_language.png\" width=700 height=700 />\n",
    "\n",
    "In this problem we are going to implement a simple multi-class classification model to classify each image to its desired label. For downloading the dataset, use this [link](https://www.kaggle.com/datamunge/sign-language-mnist).\n",
    "\n",
    "**Note:** You may need to create a new account in Kaggle if you have not registered yet. Then put the downloaded directory in the `dataset/` folder with the name of : `sign-dataset/`"
   ]
  },
  {
   "cell_type": "code",
   "execution_count": 7,
   "id": "substantial-forum",
   "metadata": {},
   "outputs": [],
   "source": [
    "import os\n",
    "import string\n",
    "\n",
    "train_dataset = pd.read_csv('datasets/sign-dataset/sign_mnist_train/sign_mnist_train.csv')\n",
    "test_dataset = pd.read_csv('datasets/sign-dataset/sign_mnist_test/sign_mnist_test.csv')\n",
    "num_rows = train_dataset.shape[0]\n",
    "# To map each label number to its corresponding letter\n",
    "letters = dict(enumerate(string.ascii_uppercase))"
   ]
  },
  {
   "cell_type": "markdown",
   "id": "plain-crack",
   "metadata": {},
   "source": [
    "Now it is the time foe data exploration! The first few rows of the training datast are shown below:"
   ]
  },
  {
   "cell_type": "code",
   "execution_count": 8,
   "id": "gorgeous-buffer",
   "metadata": {},
   "outputs": [
    {
     "data": {
      "text/html": [
       "<div>\n",
       "<style scoped>\n",
       "    .dataframe tbody tr th:only-of-type {\n",
       "        vertical-align: middle;\n",
       "    }\n",
       "\n",
       "    .dataframe tbody tr th {\n",
       "        vertical-align: top;\n",
       "    }\n",
       "\n",
       "    .dataframe thead th {\n",
       "        text-align: right;\n",
       "    }\n",
       "</style>\n",
       "<table border=\"1\" class=\"dataframe\">\n",
       "  <thead>\n",
       "    <tr style=\"text-align: right;\">\n",
       "      <th></th>\n",
       "      <th>label</th>\n",
       "      <th>pixel1</th>\n",
       "      <th>pixel2</th>\n",
       "      <th>pixel3</th>\n",
       "      <th>pixel4</th>\n",
       "      <th>pixel5</th>\n",
       "      <th>pixel6</th>\n",
       "      <th>pixel7</th>\n",
       "      <th>pixel8</th>\n",
       "      <th>pixel9</th>\n",
       "      <th>...</th>\n",
       "      <th>pixel775</th>\n",
       "      <th>pixel776</th>\n",
       "      <th>pixel777</th>\n",
       "      <th>pixel778</th>\n",
       "      <th>pixel779</th>\n",
       "      <th>pixel780</th>\n",
       "      <th>pixel781</th>\n",
       "      <th>pixel782</th>\n",
       "      <th>pixel783</th>\n",
       "      <th>pixel784</th>\n",
       "    </tr>\n",
       "  </thead>\n",
       "  <tbody>\n",
       "    <tr>\n",
       "      <th>0</th>\n",
       "      <td>3</td>\n",
       "      <td>107</td>\n",
       "      <td>118</td>\n",
       "      <td>127</td>\n",
       "      <td>134</td>\n",
       "      <td>139</td>\n",
       "      <td>143</td>\n",
       "      <td>146</td>\n",
       "      <td>150</td>\n",
       "      <td>153</td>\n",
       "      <td>...</td>\n",
       "      <td>207</td>\n",
       "      <td>207</td>\n",
       "      <td>207</td>\n",
       "      <td>207</td>\n",
       "      <td>206</td>\n",
       "      <td>206</td>\n",
       "      <td>206</td>\n",
       "      <td>204</td>\n",
       "      <td>203</td>\n",
       "      <td>202</td>\n",
       "    </tr>\n",
       "    <tr>\n",
       "      <th>1</th>\n",
       "      <td>6</td>\n",
       "      <td>155</td>\n",
       "      <td>157</td>\n",
       "      <td>156</td>\n",
       "      <td>156</td>\n",
       "      <td>156</td>\n",
       "      <td>157</td>\n",
       "      <td>156</td>\n",
       "      <td>158</td>\n",
       "      <td>158</td>\n",
       "      <td>...</td>\n",
       "      <td>69</td>\n",
       "      <td>149</td>\n",
       "      <td>128</td>\n",
       "      <td>87</td>\n",
       "      <td>94</td>\n",
       "      <td>163</td>\n",
       "      <td>175</td>\n",
       "      <td>103</td>\n",
       "      <td>135</td>\n",
       "      <td>149</td>\n",
       "    </tr>\n",
       "    <tr>\n",
       "      <th>2</th>\n",
       "      <td>2</td>\n",
       "      <td>187</td>\n",
       "      <td>188</td>\n",
       "      <td>188</td>\n",
       "      <td>187</td>\n",
       "      <td>187</td>\n",
       "      <td>186</td>\n",
       "      <td>187</td>\n",
       "      <td>188</td>\n",
       "      <td>187</td>\n",
       "      <td>...</td>\n",
       "      <td>202</td>\n",
       "      <td>201</td>\n",
       "      <td>200</td>\n",
       "      <td>199</td>\n",
       "      <td>198</td>\n",
       "      <td>199</td>\n",
       "      <td>198</td>\n",
       "      <td>195</td>\n",
       "      <td>194</td>\n",
       "      <td>195</td>\n",
       "    </tr>\n",
       "    <tr>\n",
       "      <th>3</th>\n",
       "      <td>2</td>\n",
       "      <td>211</td>\n",
       "      <td>211</td>\n",
       "      <td>212</td>\n",
       "      <td>212</td>\n",
       "      <td>211</td>\n",
       "      <td>210</td>\n",
       "      <td>211</td>\n",
       "      <td>210</td>\n",
       "      <td>210</td>\n",
       "      <td>...</td>\n",
       "      <td>235</td>\n",
       "      <td>234</td>\n",
       "      <td>233</td>\n",
       "      <td>231</td>\n",
       "      <td>230</td>\n",
       "      <td>226</td>\n",
       "      <td>225</td>\n",
       "      <td>222</td>\n",
       "      <td>229</td>\n",
       "      <td>163</td>\n",
       "    </tr>\n",
       "    <tr>\n",
       "      <th>4</th>\n",
       "      <td>13</td>\n",
       "      <td>164</td>\n",
       "      <td>167</td>\n",
       "      <td>170</td>\n",
       "      <td>172</td>\n",
       "      <td>176</td>\n",
       "      <td>179</td>\n",
       "      <td>180</td>\n",
       "      <td>184</td>\n",
       "      <td>185</td>\n",
       "      <td>...</td>\n",
       "      <td>92</td>\n",
       "      <td>105</td>\n",
       "      <td>105</td>\n",
       "      <td>108</td>\n",
       "      <td>133</td>\n",
       "      <td>163</td>\n",
       "      <td>157</td>\n",
       "      <td>163</td>\n",
       "      <td>164</td>\n",
       "      <td>179</td>\n",
       "    </tr>\n",
       "    <tr>\n",
       "      <th>5</th>\n",
       "      <td>16</td>\n",
       "      <td>161</td>\n",
       "      <td>168</td>\n",
       "      <td>172</td>\n",
       "      <td>173</td>\n",
       "      <td>178</td>\n",
       "      <td>184</td>\n",
       "      <td>189</td>\n",
       "      <td>193</td>\n",
       "      <td>196</td>\n",
       "      <td>...</td>\n",
       "      <td>76</td>\n",
       "      <td>74</td>\n",
       "      <td>68</td>\n",
       "      <td>62</td>\n",
       "      <td>53</td>\n",
       "      <td>55</td>\n",
       "      <td>48</td>\n",
       "      <td>238</td>\n",
       "      <td>255</td>\n",
       "      <td>255</td>\n",
       "    </tr>\n",
       "    <tr>\n",
       "      <th>6</th>\n",
       "      <td>8</td>\n",
       "      <td>134</td>\n",
       "      <td>134</td>\n",
       "      <td>135</td>\n",
       "      <td>135</td>\n",
       "      <td>136</td>\n",
       "      <td>137</td>\n",
       "      <td>137</td>\n",
       "      <td>138</td>\n",
       "      <td>138</td>\n",
       "      <td>...</td>\n",
       "      <td>109</td>\n",
       "      <td>102</td>\n",
       "      <td>91</td>\n",
       "      <td>65</td>\n",
       "      <td>138</td>\n",
       "      <td>189</td>\n",
       "      <td>179</td>\n",
       "      <td>181</td>\n",
       "      <td>181</td>\n",
       "      <td>179</td>\n",
       "    </tr>\n",
       "    <tr>\n",
       "      <th>7</th>\n",
       "      <td>22</td>\n",
       "      <td>114</td>\n",
       "      <td>42</td>\n",
       "      <td>74</td>\n",
       "      <td>99</td>\n",
       "      <td>104</td>\n",
       "      <td>109</td>\n",
       "      <td>117</td>\n",
       "      <td>127</td>\n",
       "      <td>142</td>\n",
       "      <td>...</td>\n",
       "      <td>214</td>\n",
       "      <td>218</td>\n",
       "      <td>220</td>\n",
       "      <td>223</td>\n",
       "      <td>223</td>\n",
       "      <td>225</td>\n",
       "      <td>227</td>\n",
       "      <td>227</td>\n",
       "      <td>228</td>\n",
       "      <td>228</td>\n",
       "    </tr>\n",
       "    <tr>\n",
       "      <th>8</th>\n",
       "      <td>3</td>\n",
       "      <td>169</td>\n",
       "      <td>174</td>\n",
       "      <td>176</td>\n",
       "      <td>180</td>\n",
       "      <td>183</td>\n",
       "      <td>185</td>\n",
       "      <td>187</td>\n",
       "      <td>188</td>\n",
       "      <td>190</td>\n",
       "      <td>...</td>\n",
       "      <td>119</td>\n",
       "      <td>118</td>\n",
       "      <td>123</td>\n",
       "      <td>120</td>\n",
       "      <td>118</td>\n",
       "      <td>114</td>\n",
       "      <td>94</td>\n",
       "      <td>74</td>\n",
       "      <td>61</td>\n",
       "      <td>57</td>\n",
       "    </tr>\n",
       "    <tr>\n",
       "      <th>9</th>\n",
       "      <td>3</td>\n",
       "      <td>189</td>\n",
       "      <td>189</td>\n",
       "      <td>189</td>\n",
       "      <td>190</td>\n",
       "      <td>190</td>\n",
       "      <td>191</td>\n",
       "      <td>190</td>\n",
       "      <td>190</td>\n",
       "      <td>190</td>\n",
       "      <td>...</td>\n",
       "      <td>13</td>\n",
       "      <td>53</td>\n",
       "      <td>200</td>\n",
       "      <td>204</td>\n",
       "      <td>201</td>\n",
       "      <td>201</td>\n",
       "      <td>193</td>\n",
       "      <td>175</td>\n",
       "      <td>178</td>\n",
       "      <td>156</td>\n",
       "    </tr>\n",
       "  </tbody>\n",
       "</table>\n",
       "<p>10 rows × 785 columns</p>\n",
       "</div>"
      ],
      "text/plain": [
       "   label  pixel1  pixel2  pixel3  pixel4  pixel5  pixel6  pixel7  pixel8  \\\n",
       "0      3     107     118     127     134     139     143     146     150   \n",
       "1      6     155     157     156     156     156     157     156     158   \n",
       "2      2     187     188     188     187     187     186     187     188   \n",
       "3      2     211     211     212     212     211     210     211     210   \n",
       "4     13     164     167     170     172     176     179     180     184   \n",
       "5     16     161     168     172     173     178     184     189     193   \n",
       "6      8     134     134     135     135     136     137     137     138   \n",
       "7     22     114      42      74      99     104     109     117     127   \n",
       "8      3     169     174     176     180     183     185     187     188   \n",
       "9      3     189     189     189     190     190     191     190     190   \n",
       "\n",
       "   pixel9  ...  pixel775  pixel776  pixel777  pixel778  pixel779  pixel780  \\\n",
       "0     153  ...       207       207       207       207       206       206   \n",
       "1     158  ...        69       149       128        87        94       163   \n",
       "2     187  ...       202       201       200       199       198       199   \n",
       "3     210  ...       235       234       233       231       230       226   \n",
       "4     185  ...        92       105       105       108       133       163   \n",
       "5     196  ...        76        74        68        62        53        55   \n",
       "6     138  ...       109       102        91        65       138       189   \n",
       "7     142  ...       214       218       220       223       223       225   \n",
       "8     190  ...       119       118       123       120       118       114   \n",
       "9     190  ...        13        53       200       204       201       201   \n",
       "\n",
       "   pixel781  pixel782  pixel783  pixel784  \n",
       "0       206       204       203       202  \n",
       "1       175       103       135       149  \n",
       "2       198       195       194       195  \n",
       "3       225       222       229       163  \n",
       "4       157       163       164       179  \n",
       "5        48       238       255       255  \n",
       "6       179       181       181       179  \n",
       "7       227       227       228       228  \n",
       "8        94        74        61        57  \n",
       "9       193       175       178       156  \n",
       "\n",
       "[10 rows x 785 columns]"
      ]
     },
     "execution_count": 8,
     "metadata": {},
     "output_type": "execute_result"
    }
   ],
   "source": [
    "train_dataset.head(10)"
   ]
  },
  {
   "cell_type": "markdown",
   "id": "fitted-topic",
   "metadata": {},
   "source": [
    "We need to separate the pixel values and the label from each other in order for us to load and access it separately. A function was constructed to split the training and testing dataset to separate the labels from the pixel values."
   ]
  },
  {
   "cell_type": "code",
   "execution_count": 9,
   "id": "authorized-conjunction",
   "metadata": {},
   "outputs": [],
   "source": [
    "def dataframe_to_array(dataframe):\n",
    "    # Make a copy of the original dataframe\n",
    "    dataframe1 = dataframe.copy(deep=True)\n",
    "    # Extract input & outupts as numpy arrays\n",
    "    inputs_array = dataframe1.iloc[:, 1:].to_numpy()\n",
    "    targets_array = dataframe1['label'].to_numpy()\n",
    "    return inputs_array, targets_array"
   ]
  },
  {
   "cell_type": "code",
   "execution_count": 18,
   "id": "impressed-kingdom",
   "metadata": {},
   "outputs": [
    {
     "name": "stdout",
     "output_type": "stream",
     "text": [
      "(27455, 784) (27455,)\n",
      "(7172, 784) (7172,)\n"
     ]
    }
   ],
   "source": [
    "X_train, y_train = dataframe_to_array(train_dataset)\n",
    "X_test, y_test = dataframe_to_array(test_dataset)\n",
    "\n",
    "print(X_train.shape, y_train.shape)\n",
    "print(X_test.shape, y_test.shape)"
   ]
  },
  {
   "cell_type": "markdown",
   "id": "stupid-onion",
   "metadata": {},
   "source": [
    "Let’s look at the first row of the training dataset. We also need to reshape the array to (28x28) since the initial shape is just a row array."
   ]
  },
  {
   "cell_type": "code",
   "execution_count": 21,
   "id": "green-helicopter",
   "metadata": {},
   "outputs": [
    {
     "name": "stdout",
     "output_type": "stream",
     "text": [
      "Letter:  D\n"
     ]
    },
    {
     "data": {
      "image/png": "[encoded data removed]",
      "text/plain": [
       "<Figure size 432x288 with 1 Axes>"
      ]
     },
     "metadata": {
      "needs_background": "light"
     },
     "output_type": "display_data"
    }
   ],
   "source": [
    "pic1 = np.reshape(X_train[0], (28, 28))\n",
    "plt.imshow(pic1, cmap = \"gray\")\n",
    "print(\"Letter: \", letters[y_train[0].item()])"
   ]
  },
  {
   "cell_type": "markdown",
   "id": "surface-purchase",
   "metadata": {},
   "source": [
    "As expected, the letter in the hand image is D. However, it is evident that the image is not clear due to its small resolution. This may affect the accuracy of our model and the implementation of the model in a much larger scale.\n",
    "\n",
    "The training and testing input arrays are converted to continuous float values since it allows our model for a more precise learning as compared to discrete values. On the other hand, the training and testing labels are converted to long integers since the output of the model are indices to be used in accessing probability values."
   ]
  },
  {
   "cell_type": "markdown",
   "id": "terminal-chase",
   "metadata": {},
   "source": [
    "## Q8. Implement `SimpleLogisticRegression` class. (25 points)\n",
    "\n",
    "You are free to search on the internet about implementing a Logistic Regression model using `sklearn.linear_model.LogisticRegression`."
   ]
  },
  {
   "cell_type": "code",
   "execution_count": 26,
   "id": "forced-separate",
   "metadata": {},
   "outputs": [],
   "source": [
    "from sklearn.linear_model import LogisticRegression\n",
    "\n",
    "############# Your code here ############\n",
    "\n",
    "#########################################"
   ]
  },
  {
   "cell_type": "markdown",
   "id": "raised-destruction",
   "metadata": {},
   "source": [
    "## Q9. Multi-label classification metrics. (10 points)\n",
    "\n",
    "Search on the web and find **two** best metrics for multi-label classification. Write about how it works and why we use them. Then, implement it using `sklearn.metrics`"
   ]
  },
  {
   "cell_type": "code",
   "execution_count": null,
   "id": "vocal-personal",
   "metadata": {},
   "outputs": [],
   "source": [
    "############# Your code here ############\n",
    "\n",
    "#########################################"
   ]
  },
  {
   "cell_type": "markdown",
   "id": "unlimited-costa",
   "metadata": {},
   "source": [
    "# 3. Submission\n",
    "\n",
    "Please read the notes here carefully:\n",
    "\n",
    "1. The more beautiful and insightfull your plots and diagrams are, the more points you get. So please take your time and concentration to prepare a good report with nice diagrams.\n",
    "\n",
    "2. The file you upload must be named as `[Student ID]-[Your name].zip` and it must contain **only 1 file**:\n",
    "\n",
    "  - `Linear_and_Logistic_Regression.ipynb`\n",
    "  \n",
    "4. **Important Note**: The outputs of the code blocks must be remained in your notebook, otherwise, you definitly lose all the points of that \n",
    "\n",
    "\n",
    "  \n",
    "In case you have any questions, contact **mohammad99hashemi@gmail.com**."
   ]
  }
 ],
 "metadata": {
  "kernelspec": {
   "display_name": "Python 3",
   "language": "python",
   "name": "python3"
  },
  "language_info": {
   "codemirror_mode": {
    "name": "ipython",
    "version": 3
   },
   "file_extension": ".py",
   "mimetype": "text/x-python",
   "name": "python",
   "nbconvert_exporter": "python",
   "pygments_lexer": "ipython3",
   "version": "3.9.5"
  }
 },
 "nbformat": 4,
 "nbformat_minor": 5
}
