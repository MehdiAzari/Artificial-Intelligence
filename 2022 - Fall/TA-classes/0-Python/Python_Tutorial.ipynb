{
 "cells": [
  {
   "cell_type": "markdown",
   "metadata": {
    "id": "0wCqgHaS2833"
   },
   "source": [
    "<h2> Imports and Libraries</h2>"
   ]
  },
  {
   "cell_type": "code",
   "execution_count": 31,
   "metadata": {
    "colab": {
     "base_uri": "https://localhost:8080/"
    },
    "id": "H9KvYxD8270u",
    "outputId": "5a55b6d2-2b03-49b9-aea0-2c9e8d54d8f0"
   },
   "outputs": [
    {
     "name": "stdout",
     "output_type": "stream",
     "text": [
      "Collecting fibonacci\n",
      "  Downloading fibonacci-1.0.0.tar.gz (584 bytes)\n",
      "  Preparing metadata (setup.py): started\n",
      "  Preparing metadata (setup.py): finished with status 'done'\n",
      "Building wheels for collected packages: fibonacci\n",
      "  Building wheel for fibonacci (setup.py): started\n",
      "  Building wheel for fibonacci (setup.py): finished with status 'done'\n",
      "  Created wheel for fibonacci: filename=fibonacci-1.0.0-py3-none-any.whl size=1321 sha256=2e8fd42e388d02daa2c5aa715ae7ab902b78f6185a25982e68967d93f3714762\n",
      "  Stored in directory: c:\\users\\mehrshad\\appdata\\local\\pip\\cache\\wheels\\b6\\f6\\49\\66fc85cf89ccca7e1790fc12d141705a09e2247dbb7e3cdfeb\n",
      "Successfully built fibonacci\n",
      "Installing collected packages: fibonacci\n",
      "Successfully installed fibonacci-1.0.0\n"
     ]
    },
    {
     "name": "stderr",
     "output_type": "stream",
     "text": [
      "WARNING: You are using pip version 22.0.3; however, version 22.3.1 is available.\n",
      "You should consider upgrading via the 'C:\\Users\\Mehrshad\\AppData\\Local\\Programs\\Python\\Python39\\python.exe -m pip install --upgrade pip' command.\n"
     ]
    }
   ],
   "source": [
    "#simple import\n",
    "import random \n",
    "\n",
    "#alias import\n",
    "import matplotlib as plt \n",
    "\n",
    "# sub module import\n",
    "from sklearn import linear_model \n",
    "\n",
    "#we can install external modules using pip command (in terminal or cmd)\n",
    "#example: \n",
    "#doesn't need ! on our local system"
   ]
  },
  {
   "cell_type": "markdown",
   "metadata": {
    "id": "0Jqf52zjsq90"
   },
   "source": [
    "<h2> Basic data types<h2>\n"
   ]
  },
  {
   "cell_type": "code",
   "execution_count": 1,
   "metadata": {
    "colab": {
     "base_uri": "https://localhost:8080/"
    },
    "id": "PsQdWimmq-mU",
    "outputId": "b1b80077-1b77-4447-bf2a-3121b3487c43"
   },
   "outputs": [
    {
     "name": "stdout",
     "output_type": "stream",
     "text": [
      "<class 'float'>\n",
      "<class 'str'>\n",
      "7\n",
      "7.5\n",
      "1024\n"
     ]
    }
   ],
   "source": [
    "number = 2\n",
    "float_number = 2.5\n",
    "string1 = \"Artificial\"\n",
    "string2 = \"Intelligence\"\n",
    "\n",
    " # we can get the type of a variable using type() \n",
    "print(type(float_number))\n",
    "print(type(string1))\n",
    "\n",
    "print(15 // 2) #integer point division\n",
    "print(15 / 2) #float division\n",
    "print(2 ** 10) #power"
   ]
  },
  {
   "cell_type": "markdown",
   "metadata": {
    "id": "JeClU8J7usJn"
   },
   "source": [
    "<h5>1. Strings and String slicing</h5>"
   ]
  },
  {
   "cell_type": "code",
   "execution_count": 4,
   "metadata": {
    "colab": {
     "base_uri": "https://localhost:8080/"
    },
    "id": "Lb0isoaPuo5p",
    "outputId": "d6f1020d-47f5-4a44-ed84-87291cfb6fa8"
   },
   "outputs": [
    {
     "name": "stdout",
     "output_type": "stream",
     "text": [
      "Mehrshad\n",
      "Mehrshad Saadatinia\n",
      "M\n",
      "ehrs\n",
      "Mehrshad\n",
      "Saadatinia\n",
      "Mehrshad Saadatinia\n",
      "i\n",
      "Mhsa adtna\n",
      "ainitadaaS dahsrheM\n"
     ]
    }
   ],
   "source": [
    "name = \"Mehrshad\"\n",
    "\n",
    "#Strings are immutable\n",
    "name + \" Saadatinia\"\n",
    "print(name)\n",
    "name += \" Saadatinia\"\n",
    "print(name)\n",
    "\n",
    "#indexing\n",
    "print(name[0])\n",
    "#string are iterable and could be accessed and modified using slicing\n",
    "print(name[1:5]) #get from index 1 to 5\n",
    "print(name[:8]) # ... start to 8\n",
    "print(name[9:]) # ... 9 to the end\n",
    "print(name[:])\n",
    "\n",
    "#negative indexing\n",
    "print(name[-2])\n",
    "\n",
    "#third argument is called stride which determins size of our step\n",
    "print(name[::2])\n",
    "\n",
    "#reverse a string using slicing\n",
    "print(name[::-1])"
   ]
  },
  {
   "cell_type": "markdown",
   "metadata": {
    "id": "TqWWBYE0xp8f"
   },
   "source": [
    "<h5>2. String methods</h5>"
   ]
  },
  {
   "cell_type": "code",
   "execution_count": 12,
   "metadata": {
    "id": "hniK8v9BxuDG"
   },
   "outputs": [
    {
     "name": "stdout",
     "output_type": "stream",
     "text": [
      "mehrshad saadatinia\n",
      "mehrshad saadatinia\n",
      "6\n",
      "True\n",
      "My name is John, I'm 36\n",
      "My name is mehrshad saadatinia\n"
     ]
    }
   ],
   "source": [
    "#convert string to lower case\n",
    "print(name)\n",
    "name = name.lower() #.upper()\n",
    "print(name)\n",
    "\n",
    "#find first occurrence of a character\n",
    "print(name.find('a'))\n",
    "\n",
    "#is digit?\n",
    "age = '22'\n",
    "print(age.isdigit())\n",
    "\n",
    "#format function for injecting values to string\n",
    "txt1 = \"My name is {f_name}, I'm {f_age}\".format(f_name = \"John\", f_age = 36)\n",
    "print(txt1)\n",
    "print(f'My name is {name}')"
   ]
  },
  {
   "cell_type": "markdown",
   "metadata": {
    "id": "CuyFU5Ey-tPF"
   },
   "source": [
    "<h2> Built in Data Structures</h2>\n",
    "<p>\n",
    "  In python there are 4 main data structures using which we can <br>\n",
    "  do almost everything we need from data structures and those are listed below.\n",
    "  <ul>\n",
    "    <li> lists </li>\n",
    "    <li> tuples </li>\n",
    "    <li>dictionaries </li>\n",
    "    <li> sets </li>\n",
    "  </ul>\n",
    "\n",
    "  We can also import other external data structures like queue, stack and ... \n",
    "</p>"
   ]
  },
  {
   "cell_type": "markdown",
   "metadata": {
    "id": "UIdgmboAADlA"
   },
   "source": [
    "1. <h4> List </h4>\n",
    "<p> List is the mostly used data structure in python and is a substitute for array in C style languages but could be modified after initialization. List can hold different datatypes</p>"
   ]
  },
  {
   "cell_type": "code",
   "execution_count": 16,
   "metadata": {
    "colab": {
     "base_uri": "https://localhost:8080/"
    },
    "id": "XEXtO2PR_9xd",
    "outputId": "71151877-e240-4ba3-fe16-aa54d64907d0"
   },
   "outputs": [
    {
     "name": "stdout",
     "output_type": "stream",
     "text": [
      "[2, 3, 'michael', 12.5]\n",
      "[1, 2, 3, 'michael', 12.5, 45]\n",
      "[1, 2, 3, 'michael', 12.5, 45, 'football', 'physics']\n",
      "8\n",
      "[1, 2, 12, 45, 456]\n",
      "[1, 2, 12, 45, 456]\n",
      "[[12, 24], 2, 12, 45, 456]\n",
      "24\n"
     ]
    }
   ],
   "source": [
    "#note: do not name your lists as 'list' because it will clash with python's internal namespace\n",
    "list1 = [1, 2, 3, \"michael\", 12.5]\n",
    "\n",
    "#slicing could be used for lists as well\n",
    "print(list1[1:])\n",
    "\n",
    "#list are mutable\n",
    "list1.append(45) #add single element to list\n",
    "print(list1)\n",
    "\n",
    "#add multiple elements (another list) to list\n",
    "list1.extend([\"football\", \"physics\"])\n",
    "print(list1)\n",
    "\n",
    "#get size of the list\n",
    "print( len(list1) )\n",
    "\n",
    "#sort a list \n",
    "numbers = [12, 45, 2, 456, 1]\n",
    "numbers = sorted(numbers)\n",
    "print(numbers)\n",
    "\n",
    "#copy a list\n",
    "numbers_copy = numbers.copy()\n",
    "print(numbers_copy)\n",
    "\n",
    "#pop method\n",
    "numbers.pop(0)\n",
    "numbers.insert(0, [12, 24])\n",
    "print(numbers)\n",
    "\n",
    "#access elements within nested list\n",
    "print(numbers[0][1])\n",
    "\n",
    "#2D list \n",
    "matrix = [\n",
    "          [1, 0, 0, 0], \n",
    "          [0, 1, 0, 0], \n",
    "          [0, 0, 1, 0], \n",
    "          [0, 0, 0, 1]\n",
    "         ]"
   ]
  },
  {
   "cell_type": "markdown",
   "metadata": {
    "id": "EMJk9pyqExv1"
   },
   "source": [
    "<em><strong> exercise </strong>: put a dot between every two words of a string using list and string methods </em>"
   ]
  },
  {
   "cell_type": "code",
   "execution_count": 18,
   "metadata": {
    "colab": {
     "base_uri": "https://localhost:8080/",
     "height": 35
    },
    "id": "ylDNck2nEVLl",
    "outputId": "d096d6fd-9b29-405d-b726-740c22734b19"
   },
   "outputs": [
    {
     "name": "stdout",
     "output_type": "stream",
     "text": [
      "['Artificial', 'intelligence', 'is', 'a', 'state', 'of', 'the', 'art', 'science', 'which', 'will', 'revolutionize', 'the', 'world']\n"
     ]
    },
    {
     "data": {
      "text/plain": [
       "'Artificial.intelligence.is.a.state.of.the.art.science.which.will.revolutionize.the.world'"
      ]
     },
     "execution_count": 18,
     "metadata": {},
     "output_type": "execute_result"
    }
   ],
   "source": [
    "# ** solution  **\n",
    "course = \"Artificial intelligence is a state of the art science which will revolutionize the world\"\n",
    "words = course.split(' ')\n",
    "print(words)\n",
    "'.'.join(words)"
   ]
  },
  {
   "cell_type": "markdown",
   "metadata": {
    "id": "etc2oSHFIKcM"
   },
   "source": [
    "2. <h4> Tuples </h4> \n",
    "<p> Similar to list but immutable, used to store constant data as it requires less memory.</p>"
   ]
  },
  {
   "cell_type": "code",
   "execution_count": 21,
   "metadata": {
    "colab": {
     "base_uri": "https://localhost:8080/"
    },
    "id": "DDz2EaW0IJFf",
    "outputId": "dd47cf8c-84ad-4bc9-c4d4-a14ad1950606",
    "scrolled": true
   },
   "outputs": [
    {
     "name": "stdout",
     "output_type": "stream",
     "text": [
      "<class 'tuple'>\n",
      "78.5\n",
      "(1.253, 5.36)\n",
      "('akbar', 'aslaan', 'nader')\n",
      "apple\n"
     ]
    }
   ],
   "source": [
    "cor = (1.253, 5.36, 78.5)\n",
    "print( type(cor[:1]) )\n",
    "print( cor[2] )\n",
    "print( cor[:2] )\n",
    "\n",
    "#we can convert a list to tuple as follows\n",
    "names = [\"akbar\", \"aslaan\", \"nader\"]\n",
    "tup_names = tuple(names)\n",
    "print( tup_names )\n",
    "\n",
    "#unpacking (pattern matching)\n",
    "fruits = (\"apple\", \"banana\", \"cherry\")\n",
    "(green, yellow, red) = fruits\n",
    "print(green)"
   ]
  },
  {
   "cell_type": "markdown",
   "metadata": {
    "id": "25dUsrN8MyHa"
   },
   "source": [
    "2. <h4> Dictionaries </h4> \n",
    "<p> Similar to objects in Javascript (json) and Map in Java can hold key value pairs.</p>"
   ]
  },
  {
   "cell_type": "code",
   "execution_count": 24,
   "metadata": {
    "colab": {
     "base_uri": "https://localhost:8080/"
    },
    "id": "VEluWIwBMvDa",
    "outputId": "8a3f4deb-e2e0-4ac4-f50f-c67bb5cc2410"
   },
   "outputs": [
    {
     "name": "stdout",
     "output_type": "stream",
     "text": [
      "<class 'dict'>\n",
      "Ford\n",
      "{'brand': 'Ford', 'model': 'Mustang', 'year': 2020, 'number': 220}\n",
      "{'brand': 'Ford', 'model': 'Mustang', 'year': 2020, 'number': 220, 'color': 'red'}\n"
     ]
    }
   ],
   "source": [
    "car = {\n",
    "  \"brand\": \"Ford\",\n",
    "  \"model\": \"Mustang\",\n",
    "  \"year\": 1964,\n",
    "  \"year\": 2020\n",
    "}\n",
    "\n",
    "print(type(car))\n",
    "#access\n",
    "print(car[\"brand\"])\n",
    "car[\"number\"] = 220\n",
    "print(car)\n",
    "#update\n",
    "car.update({\"color\": \"red\"})\n",
    "print(car)"
   ]
  },
  {
   "cell_type": "markdown",
   "metadata": {
    "id": "R7SFdYWUOCcV"
   },
   "source": [
    "3. Sets\n"
   ]
  },
  {
   "cell_type": "code",
   "execution_count": 28,
   "metadata": {
    "colab": {
     "base_uri": "https://localhost:8080/"
    },
    "id": "pSnKCCclOMEs",
    "outputId": "a5b87428-66d3-4a01-d939-3b9e9b316d4b"
   },
   "outputs": [
    {
     "name": "stdout",
     "output_type": "stream",
     "text": [
      "{1, 2, 3, 4}\n"
     ]
    }
   ],
   "source": [
    "myset = set([1, 1, 2, 2, 3, 3, 4])\n",
    "set1 = {2, 5}\n",
    "print(myset)\n",
    "myset.add(72)"
   ]
  },
  {
   "cell_type": "markdown",
   "metadata": {
    "id": "wiiYGCABzin_"
   },
   "source": [
    "<h2> Control Flow Statements</h2>"
   ]
  },
  {
   "cell_type": "markdown",
   "metadata": {
    "id": "B4SNEeRLzv9G"
   },
   "source": [
    "<h5>1. conditionals </h5>"
   ]
  },
  {
   "cell_type": "code",
   "execution_count": 29,
   "metadata": {
    "colab": {
     "base_uri": "https://localhost:8080/"
    },
    "id": "4Z_evrLMzu-3",
    "outputId": "fb245134-c51e-492a-f379-038000d598c0"
   },
   "outputs": [
    {
     "name": "stdout",
     "output_type": "stream",
     "text": [
      "first number: 8\n",
      "second number: 4\n",
      "divisible\n"
     ]
    }
   ],
   "source": [
    "#getting input from user\n",
    "#int functions casts string (terminal) input to int \n",
    "x = int(input(\"first number: \")) \n",
    "y = int(input(\"second number: \"))\n",
    "\n",
    "\n",
    "if x == y:\n",
    "  print('equal')\n",
    "elif x < y:\n",
    "  print(\"smaller \")\n",
    "else:\n",
    "  if x % y == 0:\n",
    "    print(\"divisible\")\n",
    "  else:\n",
    "    print(\"not divisible\")\n",
    "\n",
    "#we don't have switch statements in python, although it's possible to have \n",
    "#the same functionality using dictionary datatype"
   ]
  },
  {
   "cell_type": "markdown",
   "metadata": {
    "id": "N17yPcxM2US-"
   },
   "source": [
    "<h4>2. loops </h4>"
   ]
  },
  {
   "cell_type": "code",
   "execution_count": 33,
   "metadata": {
    "colab": {
     "base_uri": "https://localhost:8080/"
    },
    "id": "6jXlCJP62GZe",
    "outputId": "9cb0960b-469c-42dc-db21-1d6a3eca4a42"
   },
   "outputs": [
    {
     "name": "stdout",
     "output_type": "stream",
     "text": [
      "guess?5\n",
      "guess?4\n",
      "guess?2\n",
      "guess?7\n",
      "guess?8\n",
      "you won\n"
     ]
    }
   ],
   "source": [
    "# **** while loop example ****\n",
    "num = random.randint(1, 10)\n",
    "\n",
    "correct = False\n",
    "\n",
    "while not correct:\n",
    "  guess = int(input(\"guess?\"))\n",
    "  if guess == num:\n",
    "    correct = True\n",
    "    print(\"you won\")\n",
    "    break\n",
    "  else:\n",
    "    continue"
   ]
  },
  {
   "cell_type": "code",
   "execution_count": null,
   "metadata": {
    "colab": {
     "base_uri": "https://localhost:8080/"
    },
    "id": "_xEKQ6ZQ-bQO",
    "outputId": "690081b7-c83c-4bd6-9b39-8f146616f4d3"
   },
   "outputs": [
    {
     "name": "stdout",
     "output_type": "stream",
     "text": [
      "1\n",
      "3\n",
      "5\n",
      "7\n"
     ]
    }
   ],
   "source": [
    "#for loops\n",
    "my_list = [1, 2, 3, 5, 6, 7]\n",
    "\n",
    "#let's print odd numbers in the list above using for\n",
    "#here's what we're going to do\n",
    "for num in my_list:\n",
    "  if num % 2 == 1:\n",
    "    print(num)\n"
   ]
  },
  {
   "cell_type": "code",
   "execution_count": null,
   "metadata": {
    "colab": {
     "base_uri": "https://localhost:8080/"
    },
    "id": "lW8jUZekPJgs",
    "outputId": "26fa7b50-3682-4191-de71-9df7d4cd6f33"
   },
   "outputs": [
    {
     "name": "stdout",
     "output_type": "stream",
     "text": [
      "2\n",
      "6\n"
     ]
    }
   ],
   "source": [
    "# now let's iterate the list using index and this time print even\n",
    "for i in range(0, len(my_list)):\n",
    "  if my_list[i] % 2 == 0:\n",
    "    print(my_list[i])"
   ]
  },
  {
   "cell_type": "code",
   "execution_count": null,
   "metadata": {
    "colab": {
     "base_uri": "https://localhost:8080/"
    },
    "id": "Bp7j-wMxQvZM",
    "outputId": "6197075e-3ea5-40de-bf04-eacd67a89f5f"
   },
   "outputs": [
    {
     "name": "stdout",
     "output_type": "stream",
     "text": [
      "(0, 2)\n",
      "(1, 4)\n",
      "(2, 6)\n",
      "(3, 8)\n"
     ]
    }
   ],
   "source": [
    "#iterate the list and print index value pairs as tuples ** IMPORTANT**\n",
    "for index, value in enumerate([2, 4, 6, 8]):\n",
    "  print((index, value))"
   ]
  },
  {
   "cell_type": "markdown",
   "metadata": {
    "id": "5Ec-oKvVRNV2"
   },
   "source": [
    "<h4> 3. Comprehensions (list and dict)</h4>"
   ]
  },
  {
   "cell_type": "code",
   "execution_count": 34,
   "metadata": {
    "colab": {
     "base_uri": "https://localhost:8080/"
    },
    "id": "rBC45NHmRWHb",
    "outputId": "4deeaeea-b084-4833-8032-d46a4518c210"
   },
   "outputs": [
    {
     "name": "stdout",
     "output_type": "stream",
     "text": [
      "[1, 4, 9, 16, 25, 36, 49, 64, 81]\n",
      "{1: 'odd', 2: 'even', 3: 'odd', 4: 'even', 5: 'odd', 6: 'even', 7: 'odd', 8: 'even', 9: 'odd'}\n"
     ]
    }
   ],
   "source": [
    "#list comprehension is a faster technique to create and work with a list\n",
    "\n",
    "#example: calculate a list of squares of numbers in range of 1 to 10 \n",
    "squares = [x**2 for x in range(1, 10)]\n",
    "print(squares)\n",
    "\n",
    "#dict comprehension\n",
    "# create a dictionary with numbers (1, 10) as keys and assign either odd or even for every number as value\n",
    "compr = {x:('even' if x % 2 == 0 else 'odd') for x in range(1, 10)}\n",
    "print(compr)   "
   ]
  },
  {
   "cell_type": "markdown",
   "metadata": {
    "id": "sNcuEsRLZdZU"
   },
   "source": [
    "<h2> Functions </h2>\n"
   ]
  },
  {
   "cell_type": "code",
   "execution_count": 35,
   "metadata": {
    "colab": {
     "base_uri": "https://localhost:8080/"
    },
    "id": "DJUbsFfnZVF0",
    "outputId": "08db3a06-90c2-4e77-f865-b2c8e8fc7a67"
   },
   "outputs": [
    {
     "name": "stdout",
     "output_type": "stream",
     "text": [
      "7\n",
      "10\n",
      "The youngest child is ali\n",
      "course name is AI\n",
      "I am from Sweden\n",
      "I am from Canada\n",
      "I am from Iran\n",
      "Mehrshad Saadatinia is 22\n"
     ]
    },
    {
     "name": "stderr",
     "output_type": "stream",
     "text": [
      "<>:2: SyntaxWarning: \"is\" with a literal. Did you mean \"==\"?\n",
      "<>:4: SyntaxWarning: \"is\" with a literal. Did you mean \"==\"?\n",
      "<>:2: SyntaxWarning: \"is\" with a literal. Did you mean \"==\"?\n",
      "<>:4: SyntaxWarning: \"is\" with a literal. Did you mean \"==\"?\n",
      "C:\\Users\\Mehrshad\\AppData\\Local\\Temp/ipykernel_9064/2998737702.py:2: SyntaxWarning: \"is\" with a literal. Did you mean \"==\"?\n",
      "  if action is \"mult\":\n",
      "C:\\Users\\Mehrshad\\AppData\\Local\\Temp/ipykernel_9064/2998737702.py:4: SyntaxWarning: \"is\" with a literal. Did you mean \"==\"?\n",
      "  elif action is \"add\":\n"
     ]
    }
   ],
   "source": [
    "def simple_calc(a, b, action):\n",
    "  if action == \"mult\":\n",
    "    return a * b\n",
    "  elif action == \"add\":\n",
    "    return a + b\n",
    "\n",
    "# call function\n",
    "print( simple_calc(2, 5, \"add\") )\n",
    "print( simple_calc(2, 5, \"mult\") )\n",
    "\n",
    "# argument passing types\n",
    "# *args\n",
    "def func1(*kids): # we can pass as many arguments as we want when we call function\n",
    "  print(\"The youngest child is \" + kids[2])\n",
    "\n",
    "\n",
    "# **kwargs\n",
    "def func2(**course):\n",
    "  print(\"course name is \" +course[\"name\"])\n",
    "\n",
    "\n",
    "#default argument\n",
    "def func3(country = \"Iran\"):\n",
    "  print(\"I am from \" + country)\n",
    "\n",
    "\n",
    "#keyword args\n",
    "def func4(name, lastname, age):\n",
    "  print(name, lastname, \"is\", age)\n",
    "\n",
    "\n",
    "func1(\"habil\", \"qabil\", \"ali\")\n",
    "\n",
    "func2(name = \"AI\", credits = 3)\n",
    "\n",
    "func3(\"Sweden\")\n",
    "func3(\"Canada\")\n",
    "func3()\n",
    "\n",
    "func4(lastname=\"Saadatinia\", name=\"Mehrshad\", age=22)\n"
   ]
  },
  {
   "cell_type": "markdown",
   "metadata": {
    "id": "yuljyWCvfFXy"
   },
   "source": [
    "<em><strong> exercise </strong>: implement fibonacci sequence recursively and return 10th number in it </em>"
   ]
  },
  {
   "cell_type": "code",
   "execution_count": null,
   "metadata": {
    "colab": {
     "base_uri": "https://localhost:8080/"
    },
    "id": "p8eUmCz5fEVy",
    "outputId": "02952e44-4694-4805-8d3c-c5c8f29caf86"
   },
   "outputs": [
    {
     "data": {
      "text/plain": [
       "55"
      ]
     },
     "execution_count": 37,
     "metadata": {},
     "output_type": "execute_result"
    }
   ],
   "source": [
    "def fibo(n):\n",
    "  if n == 1:\n",
    "    return 1\n",
    "  elif n == 2:\n",
    "    return 1\n",
    "  return fibo(n - 1) + fibo(n - 2)\n",
    "  \n",
    "\n",
    "fibo(10)"
   ]
  },
  {
   "cell_type": "markdown",
   "metadata": {
    "id": "J6w9LZGwhciy"
   },
   "source": [
    "<h4>Files and IO</h4>\n",
    "<em>\n",
    "f1 = open(\"myfile.txt\", \"r\") -> open file with read permission <br>\n",
    "f2 = open(\"myfile.txt\", \"a\") -> open file with read and append permission <br>\n",
    "f3 = open(\"myfile.txt\", \"w\") -> open file with read and write permission <br>\n",
    "</em>"
   ]
  },
  {
   "cell_type": "code",
   "execution_count": 36,
   "metadata": {
    "colab": {
     "base_uri": "https://localhost:8080/"
    },
    "id": "Kro1xpRjjZly",
    "outputId": "9b604804-3cca-4596-d25d-051aeead30e6"
   },
   "outputs": [
    {
     "name": "stdout",
     "output_type": "stream",
     "text": [
      "False\n",
      "5\n",
      "<filter object at 0x000001C30819F4F0>\n",
      "['ali', 'nice']\n"
     ]
    }
   ],
   "source": [
    "#some tricks\n",
    "\n",
    "#any()\n",
    "test = [1, 2, 3, 4, 5]\n",
    "print(any(elem % 7 == 0 for elem in test))\n",
    "\n",
    "#swap\n",
    "a = 5\n",
    "b = 10\n",
    "a, b = b, a\n",
    "print(b)\n",
    "\n",
    "#filter\n",
    "#example: filter out all the strings in a given list of different datatypes\n",
    "mix = [1, \"ali\", 45, \"nice\", 4.5, 12, 23]\n",
    "res = filter(lambda x: type(x) == type(\"\"), mix)\n",
    "print(res)\n",
    "print(list(res))"
   ]
  },
  {
   "cell_type": "markdown",
   "metadata": {
    "id": "Oy8n02Rll286"
   },
   "source": [
    "<em><strong> exercise </strong>: implement DFS **traversal** in Python (left to right)</em>"
   ]
  },
  {
   "cell_type": "markdown",
   "metadata": {
    "id": "dEkuVeYBsVQQ"
   },
   "source": [
    "![Tree dfs.png](data:image/png;base64,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)"
   ]
  },
  {
   "cell_type": "code",
   "execution_count": null,
   "metadata": {
    "colab": {
     "base_uri": "https://localhost:8080/"
    },
    "id": "AeQTcNTqmGRx",
    "outputId": "7c6ea2c3-e5b2-4a29-b25a-bcc5630e10c0"
   },
   "outputs": [
    {
     "name": "stdout",
     "output_type": "stream",
     "text": [
      "1  -> 2  -> 5  -> 7  -> 6  -> 8  -> 9  -> 3  -> 4  -> 10  -> 11  -> end\n"
     ]
    }
   ],
   "source": [
    "\n",
    "def dfs(tree, root):\n",
    "  stack = []\n",
    "  stack.append(root)\n",
    "  while len(stack) != 0:\n",
    "    top = len(stack) - 1\n",
    "    temp = stack.pop(top)\n",
    "    print(temp, \" -> \", end='')\n",
    "    if temp in tree:\n",
    "      for child in reversed(tree[temp]):\n",
    "        stack.append(child)\n",
    "  print(\"end\")\n",
    "\n",
    "t = {1: [2, 3, 4], 2: [5, 6], 5: [7], 6: [8, 9], 4:[10, 11]}\n",
    "dfs(t, 1)\n"
   ]
  },
  {
   "cell_type": "markdown",
   "metadata": {
    "id": "B3lMMCkUexAY"
   },
   "source": [
    "#### OOP"
   ]
  },
  {
   "cell_type": "code",
   "execution_count": null,
   "metadata": {
    "id": "fTDaSvMYeneX"
   },
   "outputs": [],
   "source": [
    "# this is how you create a class in python\n",
    "class Person():\n",
    "  def __init__(self, name):\n",
    "    self.name = name\n",
    "    self.age = 0\n",
    "\n",
    "  def set_age(self, age):\n",
    "    self.age = age\n",
    "  \n",
    "  def get_name(self):\n",
    "    return name\n"
   ]
  },
  {
   "cell_type": "code",
   "execution_count": null,
   "metadata": {
    "id": "JzdFrafWfVLe"
   },
   "outputs": [],
   "source": [
    "class User(Person):  #inheritance\n",
    "  def __init__(self, name):\n",
    "    super().__init__(name)\n",
    "    self.password = ''\n",
    "  def set_password(self, pwd):\n",
    "    self.password = pwd"
   ]
  },
  {
   "cell_type": "code",
   "execution_count": null,
   "metadata": {
    "colab": {
     "base_uri": "https://localhost:8080/",
     "height": 35
    },
    "id": "KIQiCSwgfna_",
    "outputId": "eceef606-6915-4eba-a6ee-a42412e9fa10"
   },
   "outputs": [
    {
     "data": {
      "application/vnd.google.colaboratory.intrinsic+json": {
       "type": "string"
      },
      "text/plain": [
       "'Mehrshad'"
      ]
     },
     "execution_count": 42,
     "metadata": {},
     "output_type": "execute_result"
    }
   ],
   "source": [
    "u1 = User('Mehrshad')\n",
    "u1.set_password('1234')\n",
    "u1.name"
   ]
  }
 ],
 "metadata": {
  "colab": {
   "collapsed_sections": [],
   "name": "AI_class_main.ipynb",
   "provenance": []
  },
  "kernelspec": {
   "display_name": "Python 3 (ipykernel)",
   "language": "python",
   "name": "python3"
  },
  "language_info": {
   "codemirror_mode": {
    "name": "ipython",
    "version": 3
   },
   "file_extension": ".py",
   "mimetype": "text/x-python",
   "name": "python",
   "nbconvert_exporter": "python",
   "pygments_lexer": "ipython3",
   "version": "3.9.6"
  }
 },
 "nbformat": 4,
 "nbformat_minor": 1
}
